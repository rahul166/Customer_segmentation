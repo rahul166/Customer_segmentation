{
  "nbformat": 4,
  "nbformat_minor": 0,
  "metadata": {
    "colab": {
      "name": "RFM_score.ipynb",
      "provenance": [],
      "collapsed_sections": []
    },
    "kernelspec": {
      "name": "python3",
      "display_name": "Python 3"
    }
  },
  "cells": [
    {
      "cell_type": "code",
      "metadata": {
        "id": "AUMSJvZJsQgS",
        "colab_type": "code",
        "colab": {}
      },
      "source": [
        "import pandas as pd\n",
        "import numpy as np"
      ],
      "execution_count": 0,
      "outputs": []
    },
    {
      "cell_type": "code",
      "metadata": {
        "id": "tdHm1QALs1-e",
        "colab_type": "code",
        "colab": {}
      },
      "source": [
        "data=pd.read_csv('cus_id')"
      ],
      "execution_count": 0,
      "outputs": []
    },
    {
      "cell_type": "code",
      "metadata": {
        "id": "H9nVHYIzuNdY",
        "colab_type": "code",
        "outputId": "d940f7fc-4396-4138-b366-aef66348266c",
        "colab": {
          "base_uri": "https://localhost:8080/",
          "height": 419
        }
      },
      "source": [
        "data"
      ],
      "execution_count": 0,
      "outputs": [
        {
          "output_type": "execute_result",
          "data": {
            "text/html": [
              "<div>\n",
              "<style scoped>\n",
              "    .dataframe tbody tr th:only-of-type {\n",
              "        vertical-align: middle;\n",
              "    }\n",
              "\n",
              "    .dataframe tbody tr th {\n",
              "        vertical-align: top;\n",
              "    }\n",
              "\n",
              "    .dataframe thead th {\n",
              "        text-align: right;\n",
              "    }\n",
              "</style>\n",
              "<table border=\"1\" class=\"dataframe\">\n",
              "  <thead>\n",
              "    <tr style=\"text-align: right;\">\n",
              "      <th></th>\n",
              "      <th>Unnamed: 0</th>\n",
              "      <th>CustomerID</th>\n",
              "      <th>Recency</th>\n",
              "      <th>frequency</th>\n",
              "      <th>Amount</th>\n",
              "      <th>recency_log</th>\n",
              "      <th>frequency_log</th>\n",
              "      <th>amount_log</th>\n",
              "    </tr>\n",
              "  </thead>\n",
              "  <tbody>\n",
              "    <tr>\n",
              "      <th>0</th>\n",
              "      <td>0</td>\n",
              "      <td>12346.0</td>\n",
              "      <td>326.0</td>\n",
              "      <td>1</td>\n",
              "      <td>77183.60</td>\n",
              "      <td>5.786897</td>\n",
              "      <td>0.000000</td>\n",
              "      <td>11.253942</td>\n",
              "    </tr>\n",
              "    <tr>\n",
              "      <th>1</th>\n",
              "      <td>1</td>\n",
              "      <td>12347.0</td>\n",
              "      <td>2.0</td>\n",
              "      <td>7</td>\n",
              "      <td>4310.00</td>\n",
              "      <td>0.693147</td>\n",
              "      <td>1.945910</td>\n",
              "      <td>8.368693</td>\n",
              "    </tr>\n",
              "    <tr>\n",
              "      <th>2</th>\n",
              "      <td>2</td>\n",
              "      <td>12348.0</td>\n",
              "      <td>75.0</td>\n",
              "      <td>4</td>\n",
              "      <td>1797.24</td>\n",
              "      <td>4.317488</td>\n",
              "      <td>1.386294</td>\n",
              "      <td>7.494007</td>\n",
              "    </tr>\n",
              "    <tr>\n",
              "      <th>3</th>\n",
              "      <td>3</td>\n",
              "      <td>12349.0</td>\n",
              "      <td>19.0</td>\n",
              "      <td>1</td>\n",
              "      <td>1757.55</td>\n",
              "      <td>2.944439</td>\n",
              "      <td>0.000000</td>\n",
              "      <td>7.471676</td>\n",
              "    </tr>\n",
              "    <tr>\n",
              "      <th>4</th>\n",
              "      <td>4</td>\n",
              "      <td>12350.0</td>\n",
              "      <td>310.0</td>\n",
              "      <td>1</td>\n",
              "      <td>334.40</td>\n",
              "      <td>5.736572</td>\n",
              "      <td>0.000000</td>\n",
              "      <td>5.812338</td>\n",
              "    </tr>\n",
              "    <tr>\n",
              "      <th>...</th>\n",
              "      <td>...</td>\n",
              "      <td>...</td>\n",
              "      <td>...</td>\n",
              "      <td>...</td>\n",
              "      <td>...</td>\n",
              "      <td>...</td>\n",
              "      <td>...</td>\n",
              "      <td>...</td>\n",
              "    </tr>\n",
              "    <tr>\n",
              "      <th>4333</th>\n",
              "      <td>4333</td>\n",
              "      <td>18280.0</td>\n",
              "      <td>278.0</td>\n",
              "      <td>1</td>\n",
              "      <td>180.60</td>\n",
              "      <td>5.627621</td>\n",
              "      <td>0.000000</td>\n",
              "      <td>5.196285</td>\n",
              "    </tr>\n",
              "    <tr>\n",
              "      <th>4334</th>\n",
              "      <td>4334</td>\n",
              "      <td>18281.0</td>\n",
              "      <td>181.0</td>\n",
              "      <td>1</td>\n",
              "      <td>80.82</td>\n",
              "      <td>5.198497</td>\n",
              "      <td>0.000000</td>\n",
              "      <td>4.392224</td>\n",
              "    </tr>\n",
              "    <tr>\n",
              "      <th>4335</th>\n",
              "      <td>4335</td>\n",
              "      <td>18282.0</td>\n",
              "      <td>8.0</td>\n",
              "      <td>2</td>\n",
              "      <td>178.05</td>\n",
              "      <td>2.079442</td>\n",
              "      <td>0.693147</td>\n",
              "      <td>5.182064</td>\n",
              "    </tr>\n",
              "    <tr>\n",
              "      <th>4336</th>\n",
              "      <td>4336</td>\n",
              "      <td>18283.0</td>\n",
              "      <td>4.0</td>\n",
              "      <td>16</td>\n",
              "      <td>2094.88</td>\n",
              "      <td>1.386294</td>\n",
              "      <td>2.772589</td>\n",
              "      <td>7.647252</td>\n",
              "    </tr>\n",
              "    <tr>\n",
              "      <th>4337</th>\n",
              "      <td>4337</td>\n",
              "      <td>18287.0</td>\n",
              "      <td>43.0</td>\n",
              "      <td>3</td>\n",
              "      <td>1837.28</td>\n",
              "      <td>3.761200</td>\n",
              "      <td>1.098612</td>\n",
              "      <td>7.516041</td>\n",
              "    </tr>\n",
              "  </tbody>\n",
              "</table>\n",
              "<p>4338 rows × 8 columns</p>\n",
              "</div>"
            ],
            "text/plain": [
              "      Unnamed: 0  CustomerID  Recency  ...  recency_log  frequency_log  amount_log\n",
              "0              0     12346.0    326.0  ...     5.786897       0.000000   11.253942\n",
              "1              1     12347.0      2.0  ...     0.693147       1.945910    8.368693\n",
              "2              2     12348.0     75.0  ...     4.317488       1.386294    7.494007\n",
              "3              3     12349.0     19.0  ...     2.944439       0.000000    7.471676\n",
              "4              4     12350.0    310.0  ...     5.736572       0.000000    5.812338\n",
              "...          ...         ...      ...  ...          ...            ...         ...\n",
              "4333        4333     18280.0    278.0  ...     5.627621       0.000000    5.196285\n",
              "4334        4334     18281.0    181.0  ...     5.198497       0.000000    4.392224\n",
              "4335        4335     18282.0      8.0  ...     2.079442       0.693147    5.182064\n",
              "4336        4336     18283.0      4.0  ...     1.386294       2.772589    7.647252\n",
              "4337        4337     18287.0     43.0  ...     3.761200       1.098612    7.516041\n",
              "\n",
              "[4338 rows x 8 columns]"
            ]
          },
          "metadata": {
            "tags": []
          },
          "execution_count": 3
        }
      ]
    },
    {
      "cell_type": "code",
      "metadata": {
        "id": "vlJdCnocuOJN",
        "colab_type": "code",
        "colab": {}
      },
      "source": [
        "work=data.drop(['Unnamed: 0','recency_log','frequency_log','amount_log'],axis=1)"
      ],
      "execution_count": 0,
      "outputs": []
    },
    {
      "cell_type": "code",
      "metadata": {
        "id": "2_z5-75OVWpW",
        "colab_type": "code",
        "outputId": "09c07991-b929-487a-8203-711787da7783",
        "colab": {
          "base_uri": "https://localhost:8080/",
          "height": 419
        }
      },
      "source": [
        "work"
      ],
      "execution_count": 0,
      "outputs": [
        {
          "output_type": "execute_result",
          "data": {
            "text/html": [
              "<div>\n",
              "<style scoped>\n",
              "    .dataframe tbody tr th:only-of-type {\n",
              "        vertical-align: middle;\n",
              "    }\n",
              "\n",
              "    .dataframe tbody tr th {\n",
              "        vertical-align: top;\n",
              "    }\n",
              "\n",
              "    .dataframe thead th {\n",
              "        text-align: right;\n",
              "    }\n",
              "</style>\n",
              "<table border=\"1\" class=\"dataframe\">\n",
              "  <thead>\n",
              "    <tr style=\"text-align: right;\">\n",
              "      <th></th>\n",
              "      <th>CustomerID</th>\n",
              "      <th>Recency</th>\n",
              "      <th>frequency</th>\n",
              "      <th>Amount</th>\n",
              "    </tr>\n",
              "  </thead>\n",
              "  <tbody>\n",
              "    <tr>\n",
              "      <th>0</th>\n",
              "      <td>12346.0</td>\n",
              "      <td>326.0</td>\n",
              "      <td>1</td>\n",
              "      <td>77183.60</td>\n",
              "    </tr>\n",
              "    <tr>\n",
              "      <th>1</th>\n",
              "      <td>12347.0</td>\n",
              "      <td>2.0</td>\n",
              "      <td>7</td>\n",
              "      <td>4310.00</td>\n",
              "    </tr>\n",
              "    <tr>\n",
              "      <th>2</th>\n",
              "      <td>12348.0</td>\n",
              "      <td>75.0</td>\n",
              "      <td>4</td>\n",
              "      <td>1797.24</td>\n",
              "    </tr>\n",
              "    <tr>\n",
              "      <th>3</th>\n",
              "      <td>12349.0</td>\n",
              "      <td>19.0</td>\n",
              "      <td>1</td>\n",
              "      <td>1757.55</td>\n",
              "    </tr>\n",
              "    <tr>\n",
              "      <th>4</th>\n",
              "      <td>12350.0</td>\n",
              "      <td>310.0</td>\n",
              "      <td>1</td>\n",
              "      <td>334.40</td>\n",
              "    </tr>\n",
              "    <tr>\n",
              "      <th>...</th>\n",
              "      <td>...</td>\n",
              "      <td>...</td>\n",
              "      <td>...</td>\n",
              "      <td>...</td>\n",
              "    </tr>\n",
              "    <tr>\n",
              "      <th>4333</th>\n",
              "      <td>18280.0</td>\n",
              "      <td>278.0</td>\n",
              "      <td>1</td>\n",
              "      <td>180.60</td>\n",
              "    </tr>\n",
              "    <tr>\n",
              "      <th>4334</th>\n",
              "      <td>18281.0</td>\n",
              "      <td>181.0</td>\n",
              "      <td>1</td>\n",
              "      <td>80.82</td>\n",
              "    </tr>\n",
              "    <tr>\n",
              "      <th>4335</th>\n",
              "      <td>18282.0</td>\n",
              "      <td>8.0</td>\n",
              "      <td>2</td>\n",
              "      <td>178.05</td>\n",
              "    </tr>\n",
              "    <tr>\n",
              "      <th>4336</th>\n",
              "      <td>18283.0</td>\n",
              "      <td>4.0</td>\n",
              "      <td>16</td>\n",
              "      <td>2094.88</td>\n",
              "    </tr>\n",
              "    <tr>\n",
              "      <th>4337</th>\n",
              "      <td>18287.0</td>\n",
              "      <td>43.0</td>\n",
              "      <td>3</td>\n",
              "      <td>1837.28</td>\n",
              "    </tr>\n",
              "  </tbody>\n",
              "</table>\n",
              "<p>4338 rows × 4 columns</p>\n",
              "</div>"
            ],
            "text/plain": [
              "      CustomerID  Recency  frequency    Amount\n",
              "0        12346.0    326.0          1  77183.60\n",
              "1        12347.0      2.0          7   4310.00\n",
              "2        12348.0     75.0          4   1797.24\n",
              "3        12349.0     19.0          1   1757.55\n",
              "4        12350.0    310.0          1    334.40\n",
              "...          ...      ...        ...       ...\n",
              "4333     18280.0    278.0          1    180.60\n",
              "4334     18281.0    181.0          1     80.82\n",
              "4335     18282.0      8.0          2    178.05\n",
              "4336     18283.0      4.0         16   2094.88\n",
              "4337     18287.0     43.0          3   1837.28\n",
              "\n",
              "[4338 rows x 4 columns]"
            ]
          },
          "metadata": {
            "tags": []
          },
          "execution_count": 5
        }
      ]
    },
    {
      "cell_type": "code",
      "metadata": {
        "id": "Cc-qgnDqVY3Z",
        "colab_type": "code",
        "colab": {}
      },
      "source": [
        "work=work.drop(['CustomerID'],axis=1)"
      ],
      "execution_count": 0,
      "outputs": []
    },
    {
      "cell_type": "code",
      "metadata": {
        "id": "dWfxpgjQVlhd",
        "colab_type": "code",
        "colab": {}
      },
      "source": [
        "quartiles = work.quantile(q=[0.25,0.50,0.75])\n"
      ],
      "execution_count": 0,
      "outputs": []
    },
    {
      "cell_type": "code",
      "metadata": {
        "id": "oFq1LRgkVnht",
        "colab_type": "code",
        "colab": {}
      },
      "source": [
        "quartiles=quartiles.to_dict()"
      ],
      "execution_count": 0,
      "outputs": []
    },
    {
      "cell_type": "code",
      "metadata": {
        "id": "-E5qhkS2XBmC",
        "colab_type": "code",
        "outputId": "12cf9418-00d0-4838-aef0-e7a14235a334",
        "colab": {
          "base_uri": "https://localhost:8080/",
          "height": 102
        }
      },
      "source": [
        "quartiles"
      ],
      "execution_count": 0,
      "outputs": [
        {
          "output_type": "execute_result",
          "data": {
            "text/plain": [
              "{'Amount': {0.25: 307.41499999999996,\n",
              "  0.5: 674.4849999999999,\n",
              "  0.75: 1661.7400000000007},\n",
              " 'Recency': {0.25: 18.0, 0.5: 51.0, 0.75: 142.0},\n",
              " 'frequency': {0.25: 1.0, 0.5: 2.0, 0.75: 5.0}}"
            ]
          },
          "metadata": {
            "tags": []
          },
          "execution_count": 15
        }
      ]
    },
    {
      "cell_type": "code",
      "metadata": {
        "id": "TNoN0PO0Xr6t",
        "colab_type": "code",
        "colab": {}
      },
      "source": [
        "def R_score(val,p='Recency'):\n",
        "    if val <= quartiles[p][0.25]:\n",
        "        return 1\n",
        "    elif val <= quartiles[p][0.50]:\n",
        "        return 2\n",
        "    elif val <= quartiles[p][0.75]: \n",
        "        return 3\n",
        "    else:\n",
        "        return 4\n",
        "    \n",
        "def F_score(val,p='frequency'):\n",
        "    if val <= quartiles[p][0.25]:\n",
        "        return 4\n",
        "    elif val <= quartiles[p][0.50]:\n",
        "        return 3\n",
        "    elif val <= quartiles[p][0.75]: \n",
        "        return 2\n",
        "    else:\n",
        "        return 1\n",
        "\n",
        "\n",
        "def M_score(val,p='Amount'):\n",
        "    if val <= quartiles[p][0.25]:\n",
        "        return 4\n",
        "    elif val <= quartiles[p][0.50]:\n",
        "        return 3\n",
        "    elif val <= quartiles[p][0.75]: \n",
        "        return 2\n",
        "    else:\n",
        "        return 1"
      ],
      "execution_count": 0,
      "outputs": []
    },
    {
      "cell_type": "code",
      "metadata": {
        "id": "b0HfCzN5YFkL",
        "colab_type": "code",
        "colab": {}
      },
      "source": [
        "scored=work\n",
        "scored['R_score']=scored['Recency'].apply(R_score)\n",
        "scored['F_score']=scored['frequency'].apply(F_score)\n",
        "scored['M_score']=scored['Amount'].apply(M_score)"
      ],
      "execution_count": 0,
      "outputs": []
    },
    {
      "cell_type": "code",
      "metadata": {
        "id": "VkBVOnWcZQen",
        "colab_type": "code",
        "outputId": "9f944fec-274c-4956-96d4-e74c5ddfb127",
        "colab": {
          "base_uri": "https://localhost:8080/",
          "height": 419
        }
      },
      "source": [
        "scored"
      ],
      "execution_count": 0,
      "outputs": [
        {
          "output_type": "execute_result",
          "data": {
            "text/html": [
              "<div>\n",
              "<style scoped>\n",
              "    .dataframe tbody tr th:only-of-type {\n",
              "        vertical-align: middle;\n",
              "    }\n",
              "\n",
              "    .dataframe tbody tr th {\n",
              "        vertical-align: top;\n",
              "    }\n",
              "\n",
              "    .dataframe thead th {\n",
              "        text-align: right;\n",
              "    }\n",
              "</style>\n",
              "<table border=\"1\" class=\"dataframe\">\n",
              "  <thead>\n",
              "    <tr style=\"text-align: right;\">\n",
              "      <th></th>\n",
              "      <th>Recency</th>\n",
              "      <th>frequency</th>\n",
              "      <th>Amount</th>\n",
              "      <th>R_score</th>\n",
              "      <th>F_score</th>\n",
              "      <th>M_score</th>\n",
              "    </tr>\n",
              "  </thead>\n",
              "  <tbody>\n",
              "    <tr>\n",
              "      <th>0</th>\n",
              "      <td>326.0</td>\n",
              "      <td>1</td>\n",
              "      <td>77183.60</td>\n",
              "      <td>4</td>\n",
              "      <td>4</td>\n",
              "      <td>1</td>\n",
              "    </tr>\n",
              "    <tr>\n",
              "      <th>1</th>\n",
              "      <td>2.0</td>\n",
              "      <td>7</td>\n",
              "      <td>4310.00</td>\n",
              "      <td>1</td>\n",
              "      <td>1</td>\n",
              "      <td>1</td>\n",
              "    </tr>\n",
              "    <tr>\n",
              "      <th>2</th>\n",
              "      <td>75.0</td>\n",
              "      <td>4</td>\n",
              "      <td>1797.24</td>\n",
              "      <td>3</td>\n",
              "      <td>2</td>\n",
              "      <td>1</td>\n",
              "    </tr>\n",
              "    <tr>\n",
              "      <th>3</th>\n",
              "      <td>19.0</td>\n",
              "      <td>1</td>\n",
              "      <td>1757.55</td>\n",
              "      <td>2</td>\n",
              "      <td>4</td>\n",
              "      <td>1</td>\n",
              "    </tr>\n",
              "    <tr>\n",
              "      <th>4</th>\n",
              "      <td>310.0</td>\n",
              "      <td>1</td>\n",
              "      <td>334.40</td>\n",
              "      <td>4</td>\n",
              "      <td>4</td>\n",
              "      <td>3</td>\n",
              "    </tr>\n",
              "    <tr>\n",
              "      <th>...</th>\n",
              "      <td>...</td>\n",
              "      <td>...</td>\n",
              "      <td>...</td>\n",
              "      <td>...</td>\n",
              "      <td>...</td>\n",
              "      <td>...</td>\n",
              "    </tr>\n",
              "    <tr>\n",
              "      <th>4333</th>\n",
              "      <td>278.0</td>\n",
              "      <td>1</td>\n",
              "      <td>180.60</td>\n",
              "      <td>4</td>\n",
              "      <td>4</td>\n",
              "      <td>4</td>\n",
              "    </tr>\n",
              "    <tr>\n",
              "      <th>4334</th>\n",
              "      <td>181.0</td>\n",
              "      <td>1</td>\n",
              "      <td>80.82</td>\n",
              "      <td>4</td>\n",
              "      <td>4</td>\n",
              "      <td>4</td>\n",
              "    </tr>\n",
              "    <tr>\n",
              "      <th>4335</th>\n",
              "      <td>8.0</td>\n",
              "      <td>2</td>\n",
              "      <td>178.05</td>\n",
              "      <td>1</td>\n",
              "      <td>3</td>\n",
              "      <td>4</td>\n",
              "    </tr>\n",
              "    <tr>\n",
              "      <th>4336</th>\n",
              "      <td>4.0</td>\n",
              "      <td>16</td>\n",
              "      <td>2094.88</td>\n",
              "      <td>1</td>\n",
              "      <td>1</td>\n",
              "      <td>1</td>\n",
              "    </tr>\n",
              "    <tr>\n",
              "      <th>4337</th>\n",
              "      <td>43.0</td>\n",
              "      <td>3</td>\n",
              "      <td>1837.28</td>\n",
              "      <td>2</td>\n",
              "      <td>2</td>\n",
              "      <td>1</td>\n",
              "    </tr>\n",
              "  </tbody>\n",
              "</table>\n",
              "<p>4338 rows × 6 columns</p>\n",
              "</div>"
            ],
            "text/plain": [
              "      Recency  frequency    Amount  R_score  F_score  M_score\n",
              "0       326.0          1  77183.60        4        4        1\n",
              "1         2.0          7   4310.00        1        1        1\n",
              "2        75.0          4   1797.24        3        2        1\n",
              "3        19.0          1   1757.55        2        4        1\n",
              "4       310.0          1    334.40        4        4        3\n",
              "...       ...        ...       ...      ...      ...      ...\n",
              "4333    278.0          1    180.60        4        4        4\n",
              "4334    181.0          1     80.82        4        4        4\n",
              "4335      8.0          2    178.05        1        3        4\n",
              "4336      4.0         16   2094.88        1        1        1\n",
              "4337     43.0          3   1837.28        2        2        1\n",
              "\n",
              "[4338 rows x 6 columns]"
            ]
          },
          "metadata": {
            "tags": []
          },
          "execution_count": 18
        }
      ]
    },
    {
      "cell_type": "code",
      "metadata": {
        "id": "BVhkMh9PZRUJ",
        "colab_type": "code",
        "colab": {}
      },
      "source": [
        "scored['RFM_score']=scored.R_score.map(str)+scored.F_score.map(str)+scored.M_score.map(str)"
      ],
      "execution_count": 0,
      "outputs": []
    },
    {
      "cell_type": "code",
      "metadata": {
        "id": "S-8HhGBmZkfE",
        "colab_type": "code",
        "colab": {}
      },
      "source": [
        "scored=scored.join(pd.DataFrame(data['CustomerID']))"
      ],
      "execution_count": 0,
      "outputs": []
    },
    {
      "cell_type": "code",
      "metadata": {
        "id": "9FyqIv3SZlSO",
        "colab_type": "code",
        "colab": {}
      },
      "source": [
        "final=scored.sort_values(by=['RFM_score','Amount'],ascending=[True, False])"
      ],
      "execution_count": 0,
      "outputs": []
    },
    {
      "cell_type": "code",
      "metadata": {
        "id": "MoM4rVAdbDdh",
        "colab_type": "code",
        "outputId": "9e57a737-f40b-43eb-bd96-6d4bd32c50da",
        "colab": {
          "base_uri": "https://localhost:8080/",
          "height": 419
        }
      },
      "source": [
        "final"
      ],
      "execution_count": 0,
      "outputs": [
        {
          "output_type": "execute_result",
          "data": {
            "text/html": [
              "<div>\n",
              "<style scoped>\n",
              "    .dataframe tbody tr th:only-of-type {\n",
              "        vertical-align: middle;\n",
              "    }\n",
              "\n",
              "    .dataframe tbody tr th {\n",
              "        vertical-align: top;\n",
              "    }\n",
              "\n",
              "    .dataframe thead th {\n",
              "        text-align: right;\n",
              "    }\n",
              "</style>\n",
              "<table border=\"1\" class=\"dataframe\">\n",
              "  <thead>\n",
              "    <tr style=\"text-align: right;\">\n",
              "      <th></th>\n",
              "      <th>Recency</th>\n",
              "      <th>frequency</th>\n",
              "      <th>Amount</th>\n",
              "      <th>R_score</th>\n",
              "      <th>F_score</th>\n",
              "      <th>M_score</th>\n",
              "      <th>RFM_score</th>\n",
              "      <th>CustomerID</th>\n",
              "    </tr>\n",
              "  </thead>\n",
              "  <tbody>\n",
              "    <tr>\n",
              "      <th>1689</th>\n",
              "      <td>2.0</td>\n",
              "      <td>73</td>\n",
              "      <td>280206.02</td>\n",
              "      <td>1</td>\n",
              "      <td>1</td>\n",
              "      <td>1</td>\n",
              "      <td>111</td>\n",
              "      <td>14646.0</td>\n",
              "    </tr>\n",
              "    <tr>\n",
              "      <th>4201</th>\n",
              "      <td>1.0</td>\n",
              "      <td>60</td>\n",
              "      <td>259657.30</td>\n",
              "      <td>1</td>\n",
              "      <td>1</td>\n",
              "      <td>1</td>\n",
              "      <td>111</td>\n",
              "      <td>18102.0</td>\n",
              "    </tr>\n",
              "    <tr>\n",
              "      <th>3728</th>\n",
              "      <td>8.0</td>\n",
              "      <td>46</td>\n",
              "      <td>194550.79</td>\n",
              "      <td>1</td>\n",
              "      <td>1</td>\n",
              "      <td>1</td>\n",
              "      <td>111</td>\n",
              "      <td>17450.0</td>\n",
              "    </tr>\n",
              "    <tr>\n",
              "      <th>1879</th>\n",
              "      <td>1.0</td>\n",
              "      <td>201</td>\n",
              "      <td>143825.06</td>\n",
              "      <td>1</td>\n",
              "      <td>1</td>\n",
              "      <td>1</td>\n",
              "      <td>111</td>\n",
              "      <td>14911.0</td>\n",
              "    </tr>\n",
              "    <tr>\n",
              "      <th>1333</th>\n",
              "      <td>10.0</td>\n",
              "      <td>55</td>\n",
              "      <td>117379.63</td>\n",
              "      <td>1</td>\n",
              "      <td>1</td>\n",
              "      <td>1</td>\n",
              "      <td>111</td>\n",
              "      <td>14156.0</td>\n",
              "    </tr>\n",
              "    <tr>\n",
              "      <th>...</th>\n",
              "      <td>...</td>\n",
              "      <td>...</td>\n",
              "      <td>...</td>\n",
              "      <td>...</td>\n",
              "      <td>...</td>\n",
              "      <td>...</td>\n",
              "      <td>...</td>\n",
              "      <td>...</td>\n",
              "    </tr>\n",
              "    <tr>\n",
              "      <th>3486</th>\n",
              "      <td>262.0</td>\n",
              "      <td>1</td>\n",
              "      <td>25.50</td>\n",
              "      <td>4</td>\n",
              "      <td>4</td>\n",
              "      <td>4</td>\n",
              "      <td>444</td>\n",
              "      <td>17102.0</td>\n",
              "    </tr>\n",
              "    <tr>\n",
              "      <th>2558</th>\n",
              "      <td>372.0</td>\n",
              "      <td>1</td>\n",
              "      <td>15.00</td>\n",
              "      <td>4</td>\n",
              "      <td>4</td>\n",
              "      <td>4</td>\n",
              "      <td>444</td>\n",
              "      <td>15823.0</td>\n",
              "    </tr>\n",
              "    <tr>\n",
              "      <th>3960</th>\n",
              "      <td>263.0</td>\n",
              "      <td>1</td>\n",
              "      <td>15.00</td>\n",
              "      <td>4</td>\n",
              "      <td>4</td>\n",
              "      <td>4</td>\n",
              "      <td>444</td>\n",
              "      <td>17763.0</td>\n",
              "    </tr>\n",
              "    <tr>\n",
              "      <th>4098</th>\n",
              "      <td>249.0</td>\n",
              "      <td>1</td>\n",
              "      <td>12.75</td>\n",
              "      <td>4</td>\n",
              "      <td>4</td>\n",
              "      <td>4</td>\n",
              "      <td>444</td>\n",
              "      <td>17956.0</td>\n",
              "    </tr>\n",
              "    <tr>\n",
              "      <th>3217</th>\n",
              "      <td>298.0</td>\n",
              "      <td>1</td>\n",
              "      <td>3.75</td>\n",
              "      <td>4</td>\n",
              "      <td>4</td>\n",
              "      <td>4</td>\n",
              "      <td>444</td>\n",
              "      <td>16738.0</td>\n",
              "    </tr>\n",
              "  </tbody>\n",
              "</table>\n",
              "<p>4338 rows × 8 columns</p>\n",
              "</div>"
            ],
            "text/plain": [
              "      Recency  frequency     Amount  ...  M_score  RFM_score  CustomerID\n",
              "1689      2.0         73  280206.02  ...        1        111     14646.0\n",
              "4201      1.0         60  259657.30  ...        1        111     18102.0\n",
              "3728      8.0         46  194550.79  ...        1        111     17450.0\n",
              "1879      1.0        201  143825.06  ...        1        111     14911.0\n",
              "1333     10.0         55  117379.63  ...        1        111     14156.0\n",
              "...       ...        ...        ...  ...      ...        ...         ...\n",
              "3486    262.0          1      25.50  ...        4        444     17102.0\n",
              "2558    372.0          1      15.00  ...        4        444     15823.0\n",
              "3960    263.0          1      15.00  ...        4        444     17763.0\n",
              "4098    249.0          1      12.75  ...        4        444     17956.0\n",
              "3217    298.0          1       3.75  ...        4        444     16738.0\n",
              "\n",
              "[4338 rows x 8 columns]"
            ]
          },
          "metadata": {
            "tags": []
          },
          "execution_count": 32
        }
      ]
    },
    {
      "cell_type": "code",
      "metadata": {
        "id": "XBpF_jn3bSTO",
        "colab_type": "code",
        "outputId": "cc6b9693-37d6-4189-97b5-428584beac5a",
        "colab": {
          "base_uri": "https://localhost:8080/",
          "height": 136
        }
      },
      "source": [
        "print(\"Top 5 customers are:\")\n",
        "final.head()['CustomerID']"
      ],
      "execution_count": 0,
      "outputs": [
        {
          "output_type": "stream",
          "text": [
            "Top 5 customers are:\n"
          ],
          "name": "stdout"
        },
        {
          "output_type": "execute_result",
          "data": {
            "text/plain": [
              "1689    14646.0\n",
              "4201    18102.0\n",
              "3728    17450.0\n",
              "1879    14911.0\n",
              "1333    14156.0\n",
              "Name: CustomerID, dtype: float64"
            ]
          },
          "metadata": {
            "tags": []
          },
          "execution_count": 33
        }
      ]
    },
    {
      "cell_type": "code",
      "metadata": {
        "id": "Qwk1DPvffM-Y",
        "colab_type": "code",
        "colab": {}
      },
      "source": [
        "#Customers That spend lot of money but they don't shop frequently\n",
        "filterr=final.loc[(final['M_score']==4) & (final['F_score']==1)]"
      ],
      "execution_count": 0,
      "outputs": []
    },
    {
      "cell_type": "code",
      "metadata": {
        "id": "Dn28WErtgRTT",
        "colab_type": "code",
        "outputId": "92c116fa-15a4-4a6f-fb3e-1540f4ad2333",
        "colab": {
          "base_uri": "https://localhost:8080/",
          "height": 102
        }
      },
      "source": [
        "print(\"Customers That spend lot of money but they don't shop frequently\")\n",
        "filterr['CustomerID']"
      ],
      "execution_count": 0,
      "outputs": [
        {
          "output_type": "stream",
          "text": [
            "Customers That spend lot of money but they don't shop frequently\n"
          ],
          "name": "stdout"
        },
        {
          "output_type": "execute_result",
          "data": {
            "text/plain": [
              "3164    16668.0\n",
              "4124    17988.0\n",
              "4155    18037.0\n",
              "Name: CustomerID, dtype: float64"
            ]
          },
          "metadata": {
            "tags": []
          },
          "execution_count": 64
        }
      ]
    },
    {
      "cell_type": "markdown",
      "metadata": {
        "id": "i8-STX0YSskw",
        "colab_type": "text"
      },
      "source": [
        "**Cluster based RFM score analysis**"
      ]
    },
    {
      "cell_type": "code",
      "metadata": {
        "id": "Q2YEzzYjeI4L",
        "colab_type": "code",
        "colab": {}
      },
      "source": [
        "asign=pd.read_csv('/content/assinged.csv')"
      ],
      "execution_count": 0,
      "outputs": []
    },
    {
      "cell_type": "code",
      "metadata": {
        "id": "r6R7iHBLS55F",
        "colab_type": "code",
        "outputId": "23041592-00b7-40f7-cdc4-d56b455fee46",
        "colab": {
          "base_uri": "https://localhost:8080/",
          "height": 456
        }
      },
      "source": [
        "asign"
      ],
      "execution_count": 0,
      "outputs": [
        {
          "output_type": "execute_result",
          "data": {
            "text/html": [
              "<div>\n",
              "<style scoped>\n",
              "    .dataframe tbody tr th:only-of-type {\n",
              "        vertical-align: middle;\n",
              "    }\n",
              "\n",
              "    .dataframe tbody tr th {\n",
              "        vertical-align: top;\n",
              "    }\n",
              "\n",
              "    .dataframe thead th {\n",
              "        text-align: right;\n",
              "    }\n",
              "</style>\n",
              "<table border=\"1\" class=\"dataframe\">\n",
              "  <thead>\n",
              "    <tr style=\"text-align: right;\">\n",
              "      <th></th>\n",
              "      <th>Column 0</th>\n",
              "      <th>CustomerID</th>\n",
              "      <th>amount_log</th>\n",
              "      <th>recency_log</th>\n",
              "      <th>frequency_log</th>\n",
              "      <th>Assignments</th>\n",
              "      <th>DistancesToClusterCenter no.0</th>\n",
              "      <th>DistancesToClusterCenter no.1</th>\n",
              "      <th>DistancesToClusterCenter no.2</th>\n",
              "      <th>DistancesToClusterCenter no.3</th>\n",
              "      <th>DistancesToClusterCenter no.4</th>\n",
              "      <th>DistancesToClusterCenter no.5</th>\n",
              "      <th>DistancesToClusterCenter no.6</th>\n",
              "    </tr>\n",
              "  </thead>\n",
              "  <tbody>\n",
              "    <tr>\n",
              "      <th>0</th>\n",
              "      <td>0</td>\n",
              "      <td>12346</td>\n",
              "      <td>3.698719</td>\n",
              "      <td>1.409894</td>\n",
              "      <td>-1.048610</td>\n",
              "      <td>1</td>\n",
              "      <td>3.877149</td>\n",
              "      <td>3.858889</td>\n",
              "      <td>4.802091</td>\n",
              "      <td>4.875674</td>\n",
              "      <td>4.813504</td>\n",
              "      <td>4.753682</td>\n",
              "      <td>3.871522</td>\n",
              "    </tr>\n",
              "    <tr>\n",
              "      <th>1</th>\n",
              "      <td>1</td>\n",
              "      <td>12347</td>\n",
              "      <td>1.410201</td>\n",
              "      <td>-2.146498</td>\n",
              "      <td>1.111836</td>\n",
              "      <td>5</td>\n",
              "      <td>3.614663</td>\n",
              "      <td>2.497526</td>\n",
              "      <td>3.411605</td>\n",
              "      <td>1.356515</td>\n",
              "      <td>4.614537</td>\n",
              "      <td>1.333829</td>\n",
              "      <td>1.720836</td>\n",
              "    </tr>\n",
              "    <tr>\n",
              "      <th>2</th>\n",
              "      <td>2</td>\n",
              "      <td>12348</td>\n",
              "      <td>0.716419</td>\n",
              "      <td>0.383971</td>\n",
              "      <td>0.490522</td>\n",
              "      <td>1</td>\n",
              "      <td>1.242979</td>\n",
              "      <td>0.497032</td>\n",
              "      <td>2.070716</td>\n",
              "      <td>3.053071</td>\n",
              "      <td>2.455702</td>\n",
              "      <td>2.017343</td>\n",
              "      <td>1.227141</td>\n",
              "    </tr>\n",
              "    <tr>\n",
              "      <th>3</th>\n",
              "      <td>3</td>\n",
              "      <td>12349</td>\n",
              "      <td>0.698706</td>\n",
              "      <td>-0.574674</td>\n",
              "      <td>-1.048610</td>\n",
              "      <td>2</td>\n",
              "      <td>1.706740</td>\n",
              "      <td>1.579999</td>\n",
              "      <td>1.520879</td>\n",
              "      <td>3.745962</td>\n",
              "      <td>2.461262</td>\n",
              "      <td>1.884846</td>\n",
              "      <td>2.361659</td>\n",
              "    </tr>\n",
              "    <tr>\n",
              "      <th>4</th>\n",
              "      <td>4</td>\n",
              "      <td>12350</td>\n",
              "      <td>-0.617446</td>\n",
              "      <td>1.374758</td>\n",
              "      <td>-1.048610</td>\n",
              "      <td>4</td>\n",
              "      <td>1.040869</td>\n",
              "      <td>2.219611</td>\n",
              "      <td>1.722261</td>\n",
              "      <td>5.249346</td>\n",
              "      <td>0.562042</td>\n",
              "      <td>3.492694</td>\n",
              "      <td>3.453037</td>\n",
              "    </tr>\n",
              "    <tr>\n",
              "      <th>...</th>\n",
              "      <td>...</td>\n",
              "      <td>...</td>\n",
              "      <td>...</td>\n",
              "      <td>...</td>\n",
              "      <td>...</td>\n",
              "      <td>...</td>\n",
              "      <td>...</td>\n",
              "      <td>...</td>\n",
              "      <td>...</td>\n",
              "      <td>...</td>\n",
              "      <td>...</td>\n",
              "      <td>...</td>\n",
              "      <td>...</td>\n",
              "    </tr>\n",
              "    <tr>\n",
              "      <th>4333</th>\n",
              "      <td>4333</td>\n",
              "      <td>18280</td>\n",
              "      <td>-1.106086</td>\n",
              "      <td>1.298690</td>\n",
              "      <td>-1.048610</td>\n",
              "      <td>4</td>\n",
              "      <td>1.332027</td>\n",
              "      <td>2.440629</td>\n",
              "      <td>1.673667</td>\n",
              "      <td>5.467014</td>\n",
              "      <td>0.206501</td>\n",
              "      <td>3.598092</td>\n",
              "      <td>3.697011</td>\n",
              "    </tr>\n",
              "    <tr>\n",
              "      <th>4334</th>\n",
              "      <td>4334</td>\n",
              "      <td>18281</td>\n",
              "      <td>-1.743850</td>\n",
              "      <td>0.999081</td>\n",
              "      <td>-1.048610</td>\n",
              "      <td>4</td>\n",
              "      <td>1.813741</td>\n",
              "      <td>2.757437</td>\n",
              "      <td>1.659570</td>\n",
              "      <td>5.703498</td>\n",
              "      <td>0.649581</td>\n",
              "      <td>3.684474</td>\n",
              "      <td>4.007735</td>\n",
              "    </tr>\n",
              "    <tr>\n",
              "      <th>4335</th>\n",
              "      <td>4335</td>\n",
              "      <td>18282</td>\n",
              "      <td>-1.117365</td>\n",
              "      <td>-1.178605</td>\n",
              "      <td>-0.279044</td>\n",
              "      <td>2</td>\n",
              "      <td>2.235813</td>\n",
              "      <td>2.041251</td>\n",
              "      <td>1.047668</td>\n",
              "      <td>4.064853</td>\n",
              "      <td>2.387726</td>\n",
              "      <td>1.721129</td>\n",
              "      <td>2.875074</td>\n",
              "    </tr>\n",
              "    <tr>\n",
              "      <th>4336</th>\n",
              "      <td>4336</td>\n",
              "      <td>18283</td>\n",
              "      <td>0.837969</td>\n",
              "      <td>-1.662552</td>\n",
              "      <td>2.029655</td>\n",
              "      <td>3</td>\n",
              "      <td>3.559090</td>\n",
              "      <td>2.392175</td>\n",
              "      <td>3.495654</td>\n",
              "      <td>1.192172</td>\n",
              "      <td>4.532437</td>\n",
              "      <td>1.608189</td>\n",
              "      <td>1.488083</td>\n",
              "    </tr>\n",
              "    <tr>\n",
              "      <th>4337</th>\n",
              "      <td>4337</td>\n",
              "      <td>18287</td>\n",
              "      <td>0.733896</td>\n",
              "      <td>-0.004422</td>\n",
              "      <td>0.171123</td>\n",
              "      <td>1</td>\n",
              "      <td>1.260340</td>\n",
              "      <td>0.399144</td>\n",
              "      <td>1.801748</td>\n",
              "      <td>3.001560</td>\n",
              "      <td>2.440319</td>\n",
              "      <td>1.672077</td>\n",
              "      <td>1.259836</td>\n",
              "    </tr>\n",
              "  </tbody>\n",
              "</table>\n",
              "<p>4338 rows × 13 columns</p>\n",
              "</div>"
            ],
            "text/plain": [
              "      Column 0  ...  DistancesToClusterCenter no.6\n",
              "0            0  ...                       3.871522\n",
              "1            1  ...                       1.720836\n",
              "2            2  ...                       1.227141\n",
              "3            3  ...                       2.361659\n",
              "4            4  ...                       3.453037\n",
              "...        ...  ...                            ...\n",
              "4333      4333  ...                       3.697011\n",
              "4334      4334  ...                       4.007735\n",
              "4335      4335  ...                       2.875074\n",
              "4336      4336  ...                       1.488083\n",
              "4337      4337  ...                       1.259836\n",
              "\n",
              "[4338 rows x 13 columns]"
            ]
          },
          "metadata": {
            "tags": []
          },
          "execution_count": 9
        }
      ]
    },
    {
      "cell_type": "code",
      "metadata": {
        "id": "dsteio4jTBXo",
        "colab_type": "code",
        "colab": {}
      },
      "source": [
        "df=scored.join(pd.DataFrame(asign['Assignments']))"
      ],
      "execution_count": 0,
      "outputs": []
    },
    {
      "cell_type": "code",
      "metadata": {
        "id": "Cn9f5XK_TNwv",
        "colab_type": "code",
        "outputId": "44d391d2-944f-4c67-ffc3-009d4fb8c92f",
        "colab": {
          "base_uri": "https://localhost:8080/",
          "height": 419
        }
      },
      "source": [
        "df"
      ],
      "execution_count": 0,
      "outputs": [
        {
          "output_type": "execute_result",
          "data": {
            "text/html": [
              "<div>\n",
              "<style scoped>\n",
              "    .dataframe tbody tr th:only-of-type {\n",
              "        vertical-align: middle;\n",
              "    }\n",
              "\n",
              "    .dataframe tbody tr th {\n",
              "        vertical-align: top;\n",
              "    }\n",
              "\n",
              "    .dataframe thead th {\n",
              "        text-align: right;\n",
              "    }\n",
              "</style>\n",
              "<table border=\"1\" class=\"dataframe\">\n",
              "  <thead>\n",
              "    <tr style=\"text-align: right;\">\n",
              "      <th></th>\n",
              "      <th>Recency</th>\n",
              "      <th>frequency</th>\n",
              "      <th>Amount</th>\n",
              "      <th>R_score</th>\n",
              "      <th>F_score</th>\n",
              "      <th>M_score</th>\n",
              "      <th>RFM_score</th>\n",
              "      <th>CustomerID</th>\n",
              "      <th>Assignments</th>\n",
              "    </tr>\n",
              "  </thead>\n",
              "  <tbody>\n",
              "    <tr>\n",
              "      <th>0</th>\n",
              "      <td>326.0</td>\n",
              "      <td>1</td>\n",
              "      <td>77183.60</td>\n",
              "      <td>4</td>\n",
              "      <td>4</td>\n",
              "      <td>1</td>\n",
              "      <td>441</td>\n",
              "      <td>12346.0</td>\n",
              "      <td>1</td>\n",
              "    </tr>\n",
              "    <tr>\n",
              "      <th>1</th>\n",
              "      <td>2.0</td>\n",
              "      <td>7</td>\n",
              "      <td>4310.00</td>\n",
              "      <td>1</td>\n",
              "      <td>1</td>\n",
              "      <td>1</td>\n",
              "      <td>111</td>\n",
              "      <td>12347.0</td>\n",
              "      <td>5</td>\n",
              "    </tr>\n",
              "    <tr>\n",
              "      <th>2</th>\n",
              "      <td>75.0</td>\n",
              "      <td>4</td>\n",
              "      <td>1797.24</td>\n",
              "      <td>3</td>\n",
              "      <td>2</td>\n",
              "      <td>1</td>\n",
              "      <td>321</td>\n",
              "      <td>12348.0</td>\n",
              "      <td>1</td>\n",
              "    </tr>\n",
              "    <tr>\n",
              "      <th>3</th>\n",
              "      <td>19.0</td>\n",
              "      <td>1</td>\n",
              "      <td>1757.55</td>\n",
              "      <td>2</td>\n",
              "      <td>4</td>\n",
              "      <td>1</td>\n",
              "      <td>241</td>\n",
              "      <td>12349.0</td>\n",
              "      <td>2</td>\n",
              "    </tr>\n",
              "    <tr>\n",
              "      <th>4</th>\n",
              "      <td>310.0</td>\n",
              "      <td>1</td>\n",
              "      <td>334.40</td>\n",
              "      <td>4</td>\n",
              "      <td>4</td>\n",
              "      <td>3</td>\n",
              "      <td>443</td>\n",
              "      <td>12350.0</td>\n",
              "      <td>4</td>\n",
              "    </tr>\n",
              "    <tr>\n",
              "      <th>...</th>\n",
              "      <td>...</td>\n",
              "      <td>...</td>\n",
              "      <td>...</td>\n",
              "      <td>...</td>\n",
              "      <td>...</td>\n",
              "      <td>...</td>\n",
              "      <td>...</td>\n",
              "      <td>...</td>\n",
              "      <td>...</td>\n",
              "    </tr>\n",
              "    <tr>\n",
              "      <th>4333</th>\n",
              "      <td>278.0</td>\n",
              "      <td>1</td>\n",
              "      <td>180.60</td>\n",
              "      <td>4</td>\n",
              "      <td>4</td>\n",
              "      <td>4</td>\n",
              "      <td>444</td>\n",
              "      <td>18280.0</td>\n",
              "      <td>4</td>\n",
              "    </tr>\n",
              "    <tr>\n",
              "      <th>4334</th>\n",
              "      <td>181.0</td>\n",
              "      <td>1</td>\n",
              "      <td>80.82</td>\n",
              "      <td>4</td>\n",
              "      <td>4</td>\n",
              "      <td>4</td>\n",
              "      <td>444</td>\n",
              "      <td>18281.0</td>\n",
              "      <td>4</td>\n",
              "    </tr>\n",
              "    <tr>\n",
              "      <th>4335</th>\n",
              "      <td>8.0</td>\n",
              "      <td>2</td>\n",
              "      <td>178.05</td>\n",
              "      <td>1</td>\n",
              "      <td>3</td>\n",
              "      <td>4</td>\n",
              "      <td>134</td>\n",
              "      <td>18282.0</td>\n",
              "      <td>2</td>\n",
              "    </tr>\n",
              "    <tr>\n",
              "      <th>4336</th>\n",
              "      <td>4.0</td>\n",
              "      <td>16</td>\n",
              "      <td>2094.88</td>\n",
              "      <td>1</td>\n",
              "      <td>1</td>\n",
              "      <td>1</td>\n",
              "      <td>111</td>\n",
              "      <td>18283.0</td>\n",
              "      <td>3</td>\n",
              "    </tr>\n",
              "    <tr>\n",
              "      <th>4337</th>\n",
              "      <td>43.0</td>\n",
              "      <td>3</td>\n",
              "      <td>1837.28</td>\n",
              "      <td>2</td>\n",
              "      <td>2</td>\n",
              "      <td>1</td>\n",
              "      <td>221</td>\n",
              "      <td>18287.0</td>\n",
              "      <td>1</td>\n",
              "    </tr>\n",
              "  </tbody>\n",
              "</table>\n",
              "<p>4338 rows × 9 columns</p>\n",
              "</div>"
            ],
            "text/plain": [
              "      Recency  frequency    Amount  ...  RFM_score  CustomerID  Assignments\n",
              "0       326.0          1  77183.60  ...        441     12346.0            1\n",
              "1         2.0          7   4310.00  ...        111     12347.0            5\n",
              "2        75.0          4   1797.24  ...        321     12348.0            1\n",
              "3        19.0          1   1757.55  ...        241     12349.0            2\n",
              "4       310.0          1    334.40  ...        443     12350.0            4\n",
              "...       ...        ...       ...  ...        ...         ...          ...\n",
              "4333    278.0          1    180.60  ...        444     18280.0            4\n",
              "4334    181.0          1     80.82  ...        444     18281.0            4\n",
              "4335      8.0          2    178.05  ...        134     18282.0            2\n",
              "4336      4.0         16   2094.88  ...        111     18283.0            3\n",
              "4337     43.0          3   1837.28  ...        221     18287.0            1\n",
              "\n",
              "[4338 rows x 9 columns]"
            ]
          },
          "metadata": {
            "tags": []
          },
          "execution_count": 23
        }
      ]
    },
    {
      "cell_type": "code",
      "metadata": {
        "id": "BSHeHXcqTOgL",
        "colab_type": "code",
        "colab": {}
      },
      "source": [
        "#Now we will find out the customers which are most frequent in each cluster\n",
        "def most_freq(clust):\n",
        "  lst=df.loc[(df['Assignments']==clust) & (df['F_score']==1)]['CustomerID'].values.tolist()\n",
        "  return lst\n",
        "def most_freq_alt(clust):\n",
        "  lst=df.loc[(df['Assignments']==clust) & (df['F_score']<=2)]['CustomerID'].values.tolist()\n",
        "  return lst\n",
        "def most_rec(clust):\n",
        "  lst=df.loc[(df['Assignments']==clust) & (df['R_score']<=2)]['CustomerID'].values.tolist()\n",
        "  return lst"
      ],
      "execution_count": 0,
      "outputs": []
    },
    {
      "cell_type": "code",
      "metadata": {
        "id": "vmok9xHXUh_1",
        "colab_type": "code",
        "colab": {}
      },
      "source": [
        "most_0=most_freq(0)+most_rec(0) #was Getting only 1 customer using most_freq"
      ],
      "execution_count": 0,
      "outputs": []
    },
    {
      "cell_type": "code",
      "metadata": {
        "id": "y0UrP0OhUnRO",
        "colab_type": "code",
        "outputId": "ac8d56c1-1b18-46df-e823-e67497277307",
        "colab": {
          "base_uri": "https://localhost:8080/",
          "height": 340
        }
      },
      "source": [
        "most_0"
      ],
      "execution_count": 0,
      "outputs": [
        {
          "output_type": "execute_result",
          "data": {
            "text/plain": [
              "[15107.0,\n",
              " 12398.0,\n",
              " 12556.0,\n",
              " 12596.0,\n",
              " 13601.0,\n",
              " 14754.0,\n",
              " 15068.0,\n",
              " 15468.0,\n",
              " 15469.0,\n",
              " 15821.0,\n",
              " 16208.0,\n",
              " 16260.0,\n",
              " 16593.0,\n",
              " 16751.0,\n",
              " 17354.0,\n",
              " 17423.0,\n",
              " 17459.0,\n",
              " 17764.0,\n",
              " 18252.0]"
            ]
          },
          "metadata": {
            "tags": []
          },
          "execution_count": 37
        }
      ]
    },
    {
      "cell_type": "code",
      "metadata": {
        "id": "yUv4yqWOUvm5",
        "colab_type": "code",
        "colab": {}
      },
      "source": [
        "most_1=most_freq(1)"
      ],
      "execution_count": 0,
      "outputs": []
    },
    {
      "cell_type": "code",
      "metadata": {
        "id": "ohiBLTXgU2WC",
        "colab_type": "code",
        "outputId": "56b723b3-a7b4-4ead-82d9-4eb4ba41bd7d",
        "colab": {
          "base_uri": "https://localhost:8080/",
          "height": 1000
        }
      },
      "source": [
        "most_1"
      ],
      "execution_count": 0,
      "outputs": [
        {
          "output_type": "execute_result",
          "data": {
            "text/plain": [
              "[12455.0,\n",
              " 12599.0,\n",
              " 12643.0,\n",
              " 12676.0,\n",
              " 12691.0,\n",
              " 12778.0,\n",
              " 12853.0,\n",
              " 12868.0,\n",
              " 12947.0,\n",
              " 13138.0,\n",
              " 13208.0,\n",
              " 13317.0,\n",
              " 13477.0,\n",
              " 13538.0,\n",
              " 13549.0,\n",
              " 13717.0,\n",
              " 13728.0,\n",
              " 13752.0,\n",
              " 14078.0,\n",
              " 14201.0,\n",
              " 14210.0,\n",
              " 14312.0,\n",
              " 14344.0,\n",
              " 14404.0,\n",
              " 14407.0,\n",
              " 14409.0,\n",
              " 14410.0,\n",
              " 14414.0,\n",
              " 14434.0,\n",
              " 14472.0,\n",
              " 14487.0,\n",
              " 14507.0,\n",
              " 14541.0,\n",
              " 14573.0,\n",
              " 14738.0,\n",
              " 14883.0,\n",
              " 14898.0,\n",
              " 14948.0,\n",
              " 14976.0,\n",
              " 15038.0,\n",
              " 15220.0,\n",
              " 15260.0,\n",
              " 15304.0,\n",
              " 15508.0,\n",
              " 15860.0,\n",
              " 15996.0,\n",
              " 16027.0,\n",
              " 16059.0,\n",
              " 16098.0,\n",
              " 16170.0,\n",
              " 16184.0,\n",
              " 16266.0,\n",
              " 16306.0,\n",
              " 16419.0,\n",
              " 16455.0,\n",
              " 16681.0,\n",
              " 16725.0,\n",
              " 16918.0,\n",
              " 16996.0,\n",
              " 17007.0,\n",
              " 17027.0,\n",
              " 17109.0,\n",
              " 17214.0,\n",
              " 17227.0,\n",
              " 17284.0,\n",
              " 17287.0,\n",
              " 17460.0,\n",
              " 17612.0,\n",
              " 17723.0,\n",
              " 17848.0,\n",
              " 17867.0,\n",
              " 17874.0,\n",
              " 17888.0,\n",
              " 17894.0,\n",
              " 18116.0,\n",
              " 18168.0,\n",
              " 18177.0,\n",
              " 18236.0,\n",
              " 18260.0]"
            ]
          },
          "metadata": {
            "tags": []
          },
          "execution_count": 30
        }
      ]
    },
    {
      "cell_type": "code",
      "metadata": {
        "id": "Mqw3ERDWU3hB",
        "colab_type": "code",
        "colab": {}
      },
      "source": [
        "most_2=most_freq(2)"
      ],
      "execution_count": 0,
      "outputs": []
    },
    {
      "cell_type": "code",
      "metadata": {
        "id": "qT_vgGzEVlVJ",
        "colab_type": "code",
        "outputId": "1c011e8a-379b-459b-e54c-c8525d9c9e39",
        "colab": {
          "base_uri": "https://localhost:8080/",
          "height": 34
        }
      },
      "source": [
        "most_2"
      ],
      "execution_count": 0,
      "outputs": [
        {
          "output_type": "execute_result",
          "data": {
            "text/plain": [
              "[]"
            ]
          },
          "metadata": {
            "tags": []
          },
          "execution_count": 39
        }
      ]
    },
    {
      "cell_type": "code",
      "metadata": {
        "id": "QSHAQjKqVmS9",
        "colab_type": "code",
        "colab": {}
      },
      "source": [
        "most_2=most_freq_alt(2)"
      ],
      "execution_count": 0,
      "outputs": []
    },
    {
      "cell_type": "code",
      "metadata": {
        "id": "fCi57MkkV2Tp",
        "colab_type": "code",
        "outputId": "400d2bf7-1436-4524-d675-3a2a689165ac",
        "colab": {
          "base_uri": "https://localhost:8080/",
          "height": 476
        }
      },
      "source": [
        "most_2"
      ],
      "execution_count": 0,
      "outputs": [
        {
          "output_type": "execute_result",
          "data": {
            "text/plain": [
              "[12498.0,\n",
              " 13058.0,\n",
              " 13277.0,\n",
              " 13502.0,\n",
              " 13606.0,\n",
              " 13666.0,\n",
              " 14287.0,\n",
              " 14385.0,\n",
              " 14765.0,\n",
              " 14798.0,\n",
              " 14836.0,\n",
              " 15516.0,\n",
              " 15781.0,\n",
              " 15901.0,\n",
              " 16330.0,\n",
              " 16462.0,\n",
              " 16478.0,\n",
              " 16930.0,\n",
              " 17024.0,\n",
              " 17371.0,\n",
              " 17573.0,\n",
              " 17816.0,\n",
              " 17892.0,\n",
              " 17917.0,\n",
              " 18059.0,\n",
              " 18081.0,\n",
              " 18127.0]"
            ]
          },
          "metadata": {
            "tags": []
          },
          "execution_count": 42
        }
      ]
    },
    {
      "cell_type": "code",
      "metadata": {
        "id": "owzCnWyzV3xf",
        "colab_type": "code",
        "colab": {}
      },
      "source": [
        "most_3=most_freq(3)"
      ],
      "execution_count": 0,
      "outputs": []
    },
    {
      "cell_type": "code",
      "metadata": {
        "id": "ENYxy_AbV8bm",
        "colab_type": "code",
        "outputId": "803399f3-9558-4343-e898-99a016b7c865",
        "colab": {
          "base_uri": "https://localhost:8080/",
          "height": 1000
        }
      },
      "source": [
        "most_3"
      ],
      "execution_count": 0,
      "outputs": [
        {
          "output_type": "execute_result",
          "data": {
            "text/plain": [
              "[12362.0,\n",
              " 12415.0,\n",
              " 12417.0,\n",
              " 12433.0,\n",
              " 12437.0,\n",
              " 12471.0,\n",
              " 12474.0,\n",
              " 12490.0,\n",
              " 12540.0,\n",
              " 12569.0,\n",
              " 12583.0,\n",
              " 12621.0,\n",
              " 12662.0,\n",
              " 12681.0,\n",
              " 12682.0,\n",
              " 12683.0,\n",
              " 12709.0,\n",
              " 12720.0,\n",
              " 12747.0,\n",
              " 12748.0,\n",
              " 12766.0,\n",
              " 12839.0,\n",
              " 12841.0,\n",
              " 12901.0,\n",
              " 12921.0,\n",
              " 12931.0,\n",
              " 12955.0,\n",
              " 12971.0,\n",
              " 12989.0,\n",
              " 13001.0,\n",
              " 13004.0,\n",
              " 13013.0,\n",
              " 13018.0,\n",
              " 13069.0,\n",
              " 13078.0,\n",
              " 13081.0,\n",
              " 13089.0,\n",
              " 13090.0,\n",
              " 13098.0,\n",
              " 13102.0,\n",
              " 13113.0,\n",
              " 13199.0,\n",
              " 13225.0,\n",
              " 13230.0,\n",
              " 13263.0,\n",
              " 13267.0,\n",
              " 13269.0,\n",
              " 13319.0,\n",
              " 13408.0,\n",
              " 13418.0,\n",
              " 13426.0,\n",
              " 13458.0,\n",
              " 13468.0,\n",
              " 13534.0,\n",
              " 13576.0,\n",
              " 13599.0,\n",
              " 13668.0,\n",
              " 13694.0,\n",
              " 13709.0,\n",
              " 13756.0,\n",
              " 13767.0,\n",
              " 13769.0,\n",
              " 13777.0,\n",
              " 13798.0,\n",
              " 13854.0,\n",
              " 13881.0,\n",
              " 13969.0,\n",
              " 13985.0,\n",
              " 14031.0,\n",
              " 14032.0,\n",
              " 14051.0,\n",
              " 14056.0,\n",
              " 14060.0,\n",
              " 14062.0,\n",
              " 14085.0,\n",
              " 14088.0,\n",
              " 14092.0,\n",
              " 14096.0,\n",
              " 14110.0,\n",
              " 14132.0,\n",
              " 14135.0,\n",
              " 14156.0,\n",
              " 14180.0,\n",
              " 14189.0,\n",
              " 14191.0,\n",
              " 14194.0,\n",
              " 14217.0,\n",
              " 14258.0,\n",
              " 14282.0,\n",
              " 14291.0,\n",
              " 14298.0,\n",
              " 14367.0,\n",
              " 14395.0,\n",
              " 14397.0,\n",
              " 14401.0,\n",
              " 14415.0,\n",
              " 14527.0,\n",
              " 14534.0,\n",
              " 14547.0,\n",
              " 14560.0,\n",
              " 14562.0,\n",
              " 14606.0,\n",
              " 14607.0,\n",
              " 14646.0,\n",
              " 14667.0,\n",
              " 14680.0,\n",
              " 14688.0,\n",
              " 14702.0,\n",
              " 14735.0,\n",
              " 14769.0,\n",
              " 14796.0,\n",
              " 14825.0,\n",
              " 14849.0,\n",
              " 14866.0,\n",
              " 14895.0,\n",
              " 14911.0,\n",
              " 15005.0,\n",
              " 15023.0,\n",
              " 15039.0,\n",
              " 15046.0,\n",
              " 15061.0,\n",
              " 15078.0,\n",
              " 15144.0,\n",
              " 15159.0,\n",
              " 15187.0,\n",
              " 15189.0,\n",
              " 15194.0,\n",
              " 15251.0,\n",
              " 15290.0,\n",
              " 15298.0,\n",
              " 15311.0,\n",
              " 15358.0,\n",
              " 15498.0,\n",
              " 15547.0,\n",
              " 15570.0,\n",
              " 15601.0,\n",
              " 15615.0,\n",
              " 15640.0,\n",
              " 15694.0,\n",
              " 15769.0,\n",
              " 15804.0,\n",
              " 15838.0,\n",
              " 15854.0,\n",
              " 15856.0,\n",
              " 15867.0,\n",
              " 15984.0,\n",
              " 16011.0,\n",
              " 16013.0,\n",
              " 16029.0,\n",
              " 16033.0,\n",
              " 16133.0,\n",
              " 16161.0,\n",
              " 16168.0,\n",
              " 16191.0,\n",
              " 16210.0,\n",
              " 16326.0,\n",
              " 16333.0,\n",
              " 16353.0,\n",
              " 16393.0,\n",
              " 16401.0,\n",
              " 16422.0,\n",
              " 16458.0,\n",
              " 16523.0,\n",
              " 16525.0,\n",
              " 16558.0,\n",
              " 16592.0,\n",
              " 16626.0,\n",
              " 16672.0,\n",
              " 16678.0,\n",
              " 16684.0,\n",
              " 16701.0,\n",
              " 16705.0,\n",
              " 16746.0,\n",
              " 16764.0,\n",
              " 16779.0,\n",
              " 16814.0,\n",
              " 16839.0,\n",
              " 16904.0,\n",
              " 16923.0,\n",
              " 16931.0,\n",
              " 17001.0,\n",
              " 17017.0,\n",
              " 17049.0,\n",
              " 17068.0,\n",
              " 17091.0,\n",
              " 17238.0,\n",
              " 17243.0,\n",
              " 17306.0,\n",
              " 17315.0,\n",
              " 17346.0,\n",
              " 17364.0,\n",
              " 17381.0,\n",
              " 17389.0,\n",
              " 17402.0,\n",
              " 17404.0,\n",
              " 17428.0,\n",
              " 17450.0,\n",
              " 17491.0,\n",
              " 17511.0,\n",
              " 17528.0,\n",
              " 17576.0,\n",
              " 17581.0,\n",
              " 17611.0,\n",
              " 17644.0,\n",
              " 17675.0,\n",
              " 17677.0,\n",
              " 17706.0,\n",
              " 17730.0,\n",
              " 17735.0,\n",
              " 17757.0,\n",
              " 17811.0,\n",
              " 17841.0,\n",
              " 17857.0,\n",
              " 17858.0,\n",
              " 17920.0,\n",
              " 17949.0,\n",
              " 18041.0,\n",
              " 18055.0,\n",
              " 18092.0,\n",
              " 18102.0,\n",
              " 18109.0,\n",
              " 18118.0,\n",
              " 18172.0,\n",
              " 18198.0,\n",
              " 18223.0,\n",
              " 18225.0,\n",
              " 18229.0,\n",
              " 18283.0]"
            ]
          },
          "metadata": {
            "tags": []
          },
          "execution_count": 44
        }
      ]
    },
    {
      "cell_type": "code",
      "metadata": {
        "id": "qOUZIgtIV9c_",
        "colab_type": "code",
        "outputId": "0cf0cee9-df98-41e6-b1df-a38d55db0c8f",
        "colab": {
          "base_uri": "https://localhost:8080/",
          "height": 34
        }
      },
      "source": [
        "len(most_3)"
      ],
      "execution_count": 0,
      "outputs": [
        {
          "output_type": "execute_result",
          "data": {
            "text/plain": [
              "228"
            ]
          },
          "metadata": {
            "tags": []
          },
          "execution_count": 45
        }
      ]
    },
    {
      "cell_type": "code",
      "metadata": {
        "id": "af6uGZxeWA7A",
        "colab_type": "code",
        "colab": {}
      },
      "source": [
        "most_4=most_freq(4)"
      ],
      "execution_count": 0,
      "outputs": []
    },
    {
      "cell_type": "code",
      "metadata": {
        "id": "9CQfGpUCbVIZ",
        "colab_type": "code",
        "outputId": "67cef133-914d-484b-a636-309406bf9c03",
        "colab": {
          "base_uri": "https://localhost:8080/",
          "height": 34
        }
      },
      "source": [
        "most_4[:5]"
      ],
      "execution_count": 0,
      "outputs": [
        {
          "output_type": "execute_result",
          "data": {
            "text/plain": [
              "[18037.0, 13003.0, 18037.0]"
            ]
          },
          "metadata": {
            "tags": []
          },
          "execution_count": 54
        }
      ]
    },
    {
      "cell_type": "code",
      "metadata": {
        "id": "F7Y4cDo-WDYc",
        "colab_type": "code",
        "outputId": "abeea01e-796b-4496-c277-311daa2efa24",
        "colab": {
          "base_uri": "https://localhost:8080/",
          "height": 34
        }
      },
      "source": [
        "len(most_4)"
      ],
      "execution_count": 0,
      "outputs": [
        {
          "output_type": "execute_result",
          "data": {
            "text/plain": [
              "1"
            ]
          },
          "metadata": {
            "tags": []
          },
          "execution_count": 47
        }
      ]
    },
    {
      "cell_type": "code",
      "metadata": {
        "id": "FSiiBvb0WE4m",
        "colab_type": "code",
        "colab": {}
      },
      "source": [
        "most_4=most_freq(4)+most_freq_alt(4)"
      ],
      "execution_count": 0,
      "outputs": []
    },
    {
      "cell_type": "code",
      "metadata": {
        "id": "jE9INcJkWM8G",
        "colab_type": "code",
        "outputId": "bcbc387b-a634-422d-9c3a-3806cd366ac0",
        "colab": {
          "base_uri": "https://localhost:8080/",
          "height": 34
        }
      },
      "source": [
        "len(most_4)"
      ],
      "execution_count": 0,
      "outputs": [
        {
          "output_type": "execute_result",
          "data": {
            "text/plain": [
              "3"
            ]
          },
          "metadata": {
            "tags": []
          },
          "execution_count": 49
        }
      ]
    },
    {
      "cell_type": "code",
      "metadata": {
        "id": "-foqSEEPWOXw",
        "colab_type": "code",
        "colab": {}
      },
      "source": [
        "most_5=most_freq(5)"
      ],
      "execution_count": 0,
      "outputs": []
    },
    {
      "cell_type": "code",
      "metadata": {
        "id": "KMUdsA5abds1",
        "colab_type": "code",
        "outputId": "142b3cb6-30ed-485b-e725-ec1cffbfaa3a",
        "colab": {
          "base_uri": "https://localhost:8080/",
          "height": 34
        }
      },
      "source": [
        "most_5[:5]"
      ],
      "execution_count": 0,
      "outputs": [
        {
          "output_type": "execute_result",
          "data": {
            "text/plain": [
              "[12347.0, 12423.0, 12464.0, 12528.0, 12584.0]"
            ]
          },
          "metadata": {
            "tags": []
          },
          "execution_count": 55
        }
      ]
    },
    {
      "cell_type": "code",
      "metadata": {
        "id": "V6pZOzsZWR-z",
        "colab_type": "code",
        "outputId": "b5cf8f58-3aa4-4f58-88fd-27a338c8c906",
        "colab": {
          "base_uri": "https://localhost:8080/",
          "height": 34
        }
      },
      "source": [
        "len(most_5)"
      ],
      "execution_count": 0,
      "outputs": [
        {
          "output_type": "execute_result",
          "data": {
            "text/plain": [
              "114"
            ]
          },
          "metadata": {
            "tags": []
          },
          "execution_count": 51
        }
      ]
    },
    {
      "cell_type": "code",
      "metadata": {
        "id": "n8nGFBx4WTAZ",
        "colab_type": "code",
        "colab": {}
      },
      "source": [
        "most_6=most_freq(6)"
      ],
      "execution_count": 0,
      "outputs": []
    },
    {
      "cell_type": "code",
      "metadata": {
        "id": "EzOKO4ngbisM",
        "colab_type": "code",
        "outputId": "9c1896b8-fbe1-49e1-c627-b8dbc33ed98f",
        "colab": {
          "base_uri": "https://localhost:8080/",
          "height": 34
        }
      },
      "source": [
        "most_6[:5]"
      ],
      "execution_count": 0,
      "outputs": [
        {
          "output_type": "execute_result",
          "data": {
            "text/plain": [
              "[12352.0, 12388.0, 12395.0, 12428.0, 12431.0]"
            ]
          },
          "metadata": {
            "tags": []
          },
          "execution_count": 56
        }
      ]
    },
    {
      "cell_type": "code",
      "metadata": {
        "id": "v84SkzAXWWLt",
        "colab_type": "code",
        "outputId": "91110365-89eb-4ee1-a60c-0e3b9a1c3879",
        "colab": {
          "base_uri": "https://localhost:8080/",
          "height": 34
        }
      },
      "source": [
        "len(most_6)"
      ],
      "execution_count": 0,
      "outputs": [
        {
          "output_type": "execute_result",
          "data": {
            "text/plain": [
              "449"
            ]
          },
          "metadata": {
            "tags": []
          },
          "execution_count": 53
        }
      ]
    },
    {
      "cell_type": "code",
      "metadata": {
        "id": "6hpZGMniWXYH",
        "colab_type": "code",
        "colab": {}
      },
      "source": [
        ""
      ],
      "execution_count": 0,
      "outputs": []
    }
  ]
}